{
 "cells": [
  {
   "cell_type": "code",
   "execution_count": 1,
   "metadata": {},
   "outputs": [],
   "source": [
    "import pandas as pd\n",
    "import numpy as np"
   ]
  },
  {
   "cell_type": "code",
   "execution_count": 2,
   "metadata": {},
   "outputs": [
    {
     "data": {
      "text/html": [
       "<div>\n",
       "<style scoped>\n",
       "    .dataframe tbody tr th:only-of-type {\n",
       "        vertical-align: middle;\n",
       "    }\n",
       "\n",
       "    .dataframe tbody tr th {\n",
       "        vertical-align: top;\n",
       "    }\n",
       "\n",
       "    .dataframe thead th {\n",
       "        text-align: right;\n",
       "    }\n",
       "</style>\n",
       "<table border=\"1\" class=\"dataframe\">\n",
       "  <thead>\n",
       "    <tr style=\"text-align: right;\">\n",
       "      <th></th>\n",
       "      <th>title</th>\n",
       "      <th>salary</th>\n",
       "      <th>location</th>\n",
       "      <th>employer</th>\n",
       "      <th>employer_rating</th>\n",
       "      <th>summary</th>\n",
       "      <th>search_city</th>\n",
       "      <th>search_role</th>\n",
       "      <th>country</th>\n",
       "    </tr>\n",
       "  </thead>\n",
       "  <tbody>\n",
       "    <tr>\n",
       "      <th>0</th>\n",
       "      <td>Data Analyst</td>\n",
       "      <td>42500.0</td>\n",
       "      <td>London SW9 6DE•Temporarily Remote</td>\n",
       "      <td>Zen Educate</td>\n",
       "      <td>4.6</td>\n",
       "      <td>Perform ad-hoc data analysis.\\r\\nYou don't jus...</td>\n",
       "      <td>London</td>\n",
       "      <td>data analyst</td>\n",
       "      <td>UK</td>\n",
       "    </tr>\n",
       "    <tr>\n",
       "      <th>1</th>\n",
       "      <td>NaN</td>\n",
       "      <td>42948.0</td>\n",
       "      <td>London SE1 6LH</td>\n",
       "      <td>Arden and GEM Commissioning Support Unit</td>\n",
       "      <td>NaN</td>\n",
       "      <td>As an Information &amp; data analyst the post hold...</td>\n",
       "      <td>London</td>\n",
       "      <td>data analyst</td>\n",
       "      <td>UK</td>\n",
       "    </tr>\n",
       "    <tr>\n",
       "      <th>2</th>\n",
       "      <td>Data Analyst</td>\n",
       "      <td>28508.0</td>\n",
       "      <td>London SE1 4YB</td>\n",
       "      <td>Guy's and St Thomas' NHS Foundation Trust</td>\n",
       "      <td>4.1</td>\n",
       "      <td>Maintainingdatabases and data collection syste...</td>\n",
       "      <td>London</td>\n",
       "      <td>data analyst</td>\n",
       "      <td>UK</td>\n",
       "    </tr>\n",
       "    <tr>\n",
       "      <th>3</th>\n",
       "      <td>Data Analyst</td>\n",
       "      <td>26760.0</td>\n",
       "      <td>London•Remote</td>\n",
       "      <td>Zymewire</td>\n",
       "      <td>NaN</td>\n",
       "      <td>Maintaining and updating our database of compa...</td>\n",
       "      <td>London</td>\n",
       "      <td>data analyst</td>\n",
       "      <td>UK</td>\n",
       "    </tr>\n",
       "    <tr>\n",
       "      <th>4</th>\n",
       "      <td>Business Transformation Analyst, Consulting, F...</td>\n",
       "      <td>50106.5</td>\n",
       "      <td>London</td>\n",
       "      <td>Deloitte</td>\n",
       "      <td>4.0</td>\n",
       "      <td>They include anything from programme managers,...</td>\n",
       "      <td>London</td>\n",
       "      <td>data analyst</td>\n",
       "      <td>UK</td>\n",
       "    </tr>\n",
       "  </tbody>\n",
       "</table>\n",
       "</div>"
      ],
      "text/plain": [
       "                                               title   salary  \\\n",
       "0                                       Data Analyst  42500.0   \n",
       "1                                                NaN  42948.0   \n",
       "2                                       Data Analyst  28508.0   \n",
       "3                                       Data Analyst  26760.0   \n",
       "4  Business Transformation Analyst, Consulting, F...  50106.5   \n",
       "\n",
       "                            location  \\\n",
       "0  London SW9 6DE•Temporarily Remote   \n",
       "1                     London SE1 6LH   \n",
       "2                     London SE1 4YB   \n",
       "3                      London•Remote   \n",
       "4                             London   \n",
       "\n",
       "                                    employer employer_rating  \\\n",
       "0                                Zen Educate             4.6   \n",
       "1   Arden and GEM Commissioning Support Unit             NaN   \n",
       "2  Guy's and St Thomas' NHS Foundation Trust             4.1   \n",
       "3                                   Zymewire             NaN   \n",
       "4                                   Deloitte             4.0   \n",
       "\n",
       "                                             summary search_city  \\\n",
       "0  Perform ad-hoc data analysis.\\r\\nYou don't jus...      London   \n",
       "1  As an Information & data analyst the post hold...      London   \n",
       "2  Maintainingdatabases and data collection syste...      London   \n",
       "3  Maintaining and updating our database of compa...      London   \n",
       "4  They include anything from programme managers,...      London   \n",
       "\n",
       "    search_role country  \n",
       "0  data analyst      UK  \n",
       "1  data analyst      UK  \n",
       "2  data analyst      UK  \n",
       "3  data analyst      UK  \n",
       "4  data analyst      UK  "
      ]
     },
     "execution_count": 2,
     "metadata": {},
     "output_type": "execute_result"
    }
   ],
   "source": [
    "# Read Data:\n",
    "salary_data=pd.read_csv(r'C:\\Users\\Admin\\DataScienceProjects\\SQL_Projects\\HR-Job-Salary-Analysis-using-SQL-Power-BI\\Data\\web_scraped_data.csv')\n",
    "salary_data.head()"
   ]
  },
  {
   "cell_type": "code",
   "execution_count": 3,
   "metadata": {},
   "outputs": [
    {
     "data": {
      "text/plain": [
       "(2141, 9)"
      ]
     },
     "execution_count": 3,
     "metadata": {},
     "output_type": "execute_result"
    }
   ],
   "source": [
    "# Check for Shape:\n",
    "salary_data.shape"
   ]
  },
  {
   "cell_type": "code",
   "execution_count": 4,
   "metadata": {},
   "outputs": [
    {
     "data": {
      "text/plain": [
       "title               object\n",
       "salary             float64\n",
       "location            object\n",
       "employer            object\n",
       "employer_rating     object\n",
       "summary             object\n",
       "search_city         object\n",
       "search_role         object\n",
       "country             object\n",
       "dtype: object"
      ]
     },
     "execution_count": 4,
     "metadata": {},
     "output_type": "execute_result"
    }
   ],
   "source": [
    "salary_data.dtypes"
   ]
  },
  {
   "cell_type": "code",
   "execution_count": 5,
   "metadata": {},
   "outputs": [
    {
     "data": {
      "text/plain": [
       "title              252\n",
       "salary               0\n",
       "location             0\n",
       "employer             1\n",
       "employer_rating    867\n",
       "summary              0\n",
       "search_city          0\n",
       "search_role          0\n",
       "country              0\n",
       "dtype: int64"
      ]
     },
     "execution_count": 5,
     "metadata": {},
     "output_type": "execute_result"
    }
   ],
   "source": [
    "# Check for Null values:\n",
    "salary_data.isnull().sum()"
   ]
  },
  {
   "cell_type": "code",
   "execution_count": 6,
   "metadata": {},
   "outputs": [],
   "source": [
    "# Replace title with Most occuring title and employer_rating with average average rating:\n",
    "# Calculate the most common occurring title\n",
    "most_common_title = salary_data['title'].mode()[0]\n",
    "\n",
    "# Replace the null values in 'title' with the most common occurring title\n",
    "salary_data['title'].fillna(most_common_title, inplace=True)\n",
    "\n",
    "# Replace comma with dot in 'employer_rating' column\n",
    "salary_data['employer_rating'] = salary_data['employer_rating'].str.replace(',', '.').astype(float)\n",
    "\n",
    "\n",
    "# Calculate the average employee rating\n",
    "average_rating = salary_data['employer_rating'].mean()\n",
    "\n",
    "# Replace the null values in 'employer_rating' with the average rating\n",
    "salary_data['employer_rating'].fillna(average_rating, inplace=True)"
   ]
  },
  {
   "cell_type": "code",
   "execution_count": 7,
   "metadata": {},
   "outputs": [
    {
     "data": {
      "text/plain": [
       "title              0\n",
       "salary             0\n",
       "location           0\n",
       "employer           1\n",
       "employer_rating    0\n",
       "summary            0\n",
       "search_city        0\n",
       "search_role        0\n",
       "country            0\n",
       "dtype: int64"
      ]
     },
     "execution_count": 7,
     "metadata": {},
     "output_type": "execute_result"
    }
   ],
   "source": [
    "salary_data.isnull().sum()"
   ]
  },
  {
   "cell_type": "code",
   "execution_count": 8,
   "metadata": {},
   "outputs": [],
   "source": [
    "# Drop rows with null values\n",
    "salary_data = salary_data.dropna()\n"
   ]
  },
  {
   "cell_type": "code",
   "execution_count": 9,
   "metadata": {},
   "outputs": [
    {
     "data": {
      "text/html": [
       "<div>\n",
       "<style scoped>\n",
       "    .dataframe tbody tr th:only-of-type {\n",
       "        vertical-align: middle;\n",
       "    }\n",
       "\n",
       "    .dataframe tbody tr th {\n",
       "        vertical-align: top;\n",
       "    }\n",
       "\n",
       "    .dataframe thead th {\n",
       "        text-align: right;\n",
       "    }\n",
       "</style>\n",
       "<table border=\"1\" class=\"dataframe\">\n",
       "  <thead>\n",
       "    <tr style=\"text-align: right;\">\n",
       "      <th></th>\n",
       "      <th>salary</th>\n",
       "      <th>employer_rating</th>\n",
       "    </tr>\n",
       "  </thead>\n",
       "  <tbody>\n",
       "    <tr>\n",
       "      <th>count</th>\n",
       "      <td>2140.000000</td>\n",
       "      <td>2140.000000</td>\n",
       "    </tr>\n",
       "    <tr>\n",
       "      <th>mean</th>\n",
       "      <td>46439.740201</td>\n",
       "      <td>3.742151</td>\n",
       "    </tr>\n",
       "    <tr>\n",
       "      <th>std</th>\n",
       "      <td>32409.719105</td>\n",
       "      <td>0.465624</td>\n",
       "    </tr>\n",
       "    <tr>\n",
       "      <th>min</th>\n",
       "      <td>10.000000</td>\n",
       "      <td>1.000000</td>\n",
       "    </tr>\n",
       "    <tr>\n",
       "      <th>25%</th>\n",
       "      <td>30000.000000</td>\n",
       "      <td>3.700000</td>\n",
       "    </tr>\n",
       "    <tr>\n",
       "      <th>50%</th>\n",
       "      <td>42500.000000</td>\n",
       "      <td>3.742151</td>\n",
       "    </tr>\n",
       "    <tr>\n",
       "      <th>75%</th>\n",
       "      <td>59200.000000</td>\n",
       "      <td>3.900000</td>\n",
       "    </tr>\n",
       "    <tr>\n",
       "      <th>max</th>\n",
       "      <td>717600.000000</td>\n",
       "      <td>5.000000</td>\n",
       "    </tr>\n",
       "  </tbody>\n",
       "</table>\n",
       "</div>"
      ],
      "text/plain": [
       "              salary  employer_rating\n",
       "count    2140.000000      2140.000000\n",
       "mean    46439.740201         3.742151\n",
       "std     32409.719105         0.465624\n",
       "min        10.000000         1.000000\n",
       "25%     30000.000000         3.700000\n",
       "50%     42500.000000         3.742151\n",
       "75%     59200.000000         3.900000\n",
       "max    717600.000000         5.000000"
      ]
     },
     "execution_count": 9,
     "metadata": {},
     "output_type": "execute_result"
    }
   ],
   "source": [
    "# Descriptive Analysis:\n",
    "salary_data.describe()"
   ]
  },
  {
   "cell_type": "code",
   "execution_count": 10,
   "metadata": {},
   "outputs": [],
   "source": [
    "# Save the Pre-processed Data for Analytical Dashboard:\n",
    "salary_data.to_csv(r'C:\\Users\\Admin\\DataScienceProjects\\SQL_Projects\\HR-Job-Salary-Analysis-using-SQL-Power-BI\\Data\\pre_processed_data.csv', index=False)"
   ]
  }
 ],
 "metadata": {
  "kernelspec": {
   "display_name": "myenv",
   "language": "python",
   "name": "python3"
  },
  "language_info": {
   "codemirror_mode": {
    "name": "ipython",
    "version": 3
   },
   "file_extension": ".py",
   "mimetype": "text/x-python",
   "name": "python",
   "nbconvert_exporter": "python",
   "pygments_lexer": "ipython3",
   "version": "3.10.10"
  },
  "orig_nbformat": 4,
  "vscode": {
   "interpreter": {
    "hash": "ae0c3568e0f246cf3a4a0757d10cacde7dc39c9f802fc0a69996951e9ab3a320"
   }
  }
 },
 "nbformat": 4,
 "nbformat_minor": 2
}
