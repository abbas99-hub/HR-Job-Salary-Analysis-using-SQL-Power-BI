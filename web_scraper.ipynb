{
 "cells": [
  {
   "attachments": {},
   "cell_type": "markdown",
   "metadata": {
    "focus": false,
    "id": "69b9a648-bcc7-490d-9f9b-ea244d156bd6"
   },
   "source": [
    "# Web Scraping Job Salaries from Indeed.com. "
   ]
  },
  {
   "cell_type": "markdown",
   "metadata": {
    "focus": false,
    "id": "a948d79c-5527-4c0d-ab23-f5d43ce72056"
   },
   "source": [
    "## Scraping job listings from Indeed.com"
   ]
  },
  {
   "cell_type": "code",
   "execution_count": 1,
   "metadata": {
    "ExecuteTime": {
     "end_time": "2022-03-28T17:55:23.882725Z",
     "start_time": "2022-03-28T17:55:21.944052Z"
    },
    "code_folding": [],
    "focus": false,
    "id": "2efefc73-064a-482d-b3b5-ddf5508cb4ec"
   },
   "outputs": [],
   "source": [
    "# Import packages \n",
    "\n",
    "import requests\n",
    "import numpy as np\n",
    "import bs4\n",
    "import pandas as pd\n",
    "from bs4 import BeautifulSoup\n",
    "from tqdm import tqdm\n",
    "import time \n",
    "import random\n",
    "import csv\n",
    "import datetime\n",
    "import glob\n",
    "import re\n",
    "import scipy.stats as stats\n",
    "import seaborn as sns\n",
    "import matplotlib.pyplot as plt\n",
    "import pprint\n",
    "import warnings\n",
    "warnings.simplefilter(action='ignore', category=FutureWarning)"
   ]
  },
  {
   "cell_type": "code",
   "execution_count": 2,
   "metadata": {
    "ExecuteTime": {
     "end_time": "2022-03-28T17:55:25.602733Z",
     "start_time": "2022-03-28T17:55:23.885578Z"
    }
   },
   "outputs": [
    {
     "data": {
      "text/plain": [
       "15"
      ]
     },
     "execution_count": 2,
     "metadata": {},
     "output_type": "execute_result"
    }
   ],
   "source": [
    "# Sample URL\n",
    "URL = \"http://www.indeed.com/jobs?q=data+scientist+%2420%2C000&l=New+York&start=20\"\n",
    "\n",
    "# Request job search results from sample page\n",
    "r = requests.get(URL)\n",
    "soup = BeautifulSoup(r.text, 'html.parser')\n",
    "\n",
    "# Count job search results from sample page\n",
    "len(soup.find_all('div', class_='job_seen_beacon'))"
   ]
  },
  {
   "cell_type": "markdown",
   "metadata": {},
   "source": [
    "*I've used the inspect tool in Chrome to identify ('table', class_='job_seen_beacon') as the template for each new job produced by an Indeed search. There are 15 jobs per page. There seem to be very few jobs with a salary range.*"
   ]
  },
  {
   "cell_type": "code",
   "execution_count": 3,
   "metadata": {
    "ExecuteTime": {
     "end_time": "2022-03-28T17:55:25.621048Z",
     "start_time": "2022-03-28T17:55:25.604483Z"
    },
    "code_folding": [
     0
    ],
    "scrolled": true
   },
   "outputs": [
    {
     "name": "stdout",
     "output_type": "stream",
     "text": [
      "('<div class=\"job_seen_beacon\">\\n'\n",
      " ' <table cellpadding=\"0\" cellspacing=\"0\" class=\"jobCard_mainContent '\n",
      " 'big6_visualChanges\" role=\"presentation\">\\n'\n",
      " '  <tbody>\\n'\n",
      " '   <tr>\\n'\n",
      " '    <td class=\"resultContent\">\\n'\n",
      " '     <div class=\"heading4 color-text-primary singleLineTitle '\n",
      " 'tapItem-gutter\">\\n'\n",
      " '      <h2 class=\"jobTitle jobTitle-color-purple\">\\n'\n",
      " '       <span title=\"Data Scientist\">\\n'\n",
      " '        Data Scientist\\n'\n",
      " '       </span>\\n'\n",
      " '      </h2>\\n'\n",
      " '     </div>\\n'\n",
      " '     <div class=\"heading6 company_location tapItem-gutter companyInfo\">\\n'\n",
      " '      <span class=\"companyName\">\\n'\n",
      " '       <a class=\"turnstileLink companyOverviewLink\" '\n",
      " 'data-tn-element=\"companyName\" href=\"/cmp/National-Research-Group\" '\n",
      " 'rel=\"noopener\" target=\"_blank\">\\n'\n",
      " '        National Research Group\\n'\n",
      " '       </a>\\n'\n",
      " '      </span>\\n'\n",
      " '      <span class=\"ratingsDisplay withRatingLink\">\\n'\n",
      " '       <a aria-label=\"Company rating 2.3 out of 5 stars\" class=\"ratingLink\" '\n",
      " 'data-tn-variant=\"cmplinktst2\" href=\"/cmp/National-Research-Group/reviews\" '\n",
      " 'rel=\"noopener\" target=\"_blank\" title=\"National Research Group reviews\">\\n'\n",
      " '        <span aria-label=\"2.3 of stars rating\" class=\"ratingNumber\" '\n",
      " 'role=\"img\">\\n'\n",
      " '         <span aria-hidden=\"true\">\\n'\n",
      " '          2.3\\n'\n",
      " '         </span>\\n'\n",
      " '         <svg aria-hidden=\"true\" class=\"starIcon\" fill=\"none\" height=\"12\" '\n",
      " 'role=\"presentation\" viewbox=\"0 0 16 16\" width=\"12\" '\n",
      " 'xmlns=\"http://www.w3.org/2000/svg\">\\n'\n",
      " '          <path d=\"M8 12.8709L12.4542 15.5593C12.7807 15.7563 13.1835 '\n",
      " '15.4636 13.0968 15.0922L11.9148 10.0254L15.8505 6.61581C16.1388 6.36608 '\n",
      " '15.9847 5.89257 15.6047 5.86033L10.423 5.42072L8.39696 0.640342C8.24839 '\n",
      " '0.289808 7.7516 0.289808 7.60303 0.640341L5.57696 5.42072L0.395297 '\n",
      " '5.86033C0.015274 5.89257 -0.13882 6.36608 0.149443 6.61581L4.0852 '\n",
      " '10.0254L2.90318 15.0922C2.81653 15.4636 3.21932 15.7563 3.54584 15.5593L8 '\n",
      " '12.8709Z\" fill=\"#767676\">\\n'\n",
      " '          </path>\\n'\n",
      " '         </svg>\\n'\n",
      " '        </span>\\n'\n",
      " '       </a>\\n'\n",
      " '      </span>\\n'\n",
      " '      <div class=\"companyLocation\">\\n'\n",
      " '       New York, NY\\n'\n",
      " '      </div>\\n'\n",
      " '     </div>\\n'\n",
      " '     <div class=\"heading6 tapItem-gutter metadataContainer noJEMChips '\n",
      " 'salaryOnly\">\\n'\n",
      " '      <div class=\"metadata estimated-salary-container\">\\n'\n",
      " '       <span class=\"estimated-salary\">\\n'\n",
      " '        <svg aria-hidden=\"true\" aria-label=\"Estimated $98.7K to $125K a '\n",
      " 'year\" fill=\"none\" role=\"presentation\" viewbox=\"0 0 16 13\" '\n",
      " 'xmlns=\"http://www.w3.org/2000/svg\">\\n'\n",
      " '         <defs>\\n'\n",
      " '         </defs>\\n'\n",
      " '         <path clip-rule=\"evenodd\" d=\"M2.45168 '\n",
      " '6.10292c-.30177-.125-.62509-.18964-.95168-.1903V4.08678c.32693-.00053.6506-.06518.95267-.1903.30331-.12564.57891-.30979.81105-.54193.23215-.23215.4163-.50775.54194-.81106.12524-.30237.18989-.62638.19029-.95365H9.0902c0 '\n",
      " '.3283.06466.65339.1903.9567.12564.30331.30978.57891.54193.81106.23217.23215.50777.41629.81107.54193.3032.12558.6281.19024.9562.1903v1.83556c-.3242.00155-.6451.06616-.9448.19028-.3033.12563-.5789.30978-.81102.54193-.23215.23214-.4163.50774-.54193.81106-.12332.2977-.18789.61638-.19024.93849H3.99496c-.00071-.32645-.06535-.64961-.19029-.95124-.12564-.30332-.30979-.57891-.54193-.81106-.23215-.23215-.50775-.4163-.81106-.54193zM0 '\n",
      " '.589843C0 .313701.223858.0898438.5.0898438h12.0897c.2762 0 '\n",
      " '.5.2238572.5.5000002V9.40715c0 .27614-.2238.5-.5.5H.5c-.276143 '\n",
      " '0-.5-.22386-.5-.5V.589843zM6.54427 6.99849c1.10457 0 2-.89543 '\n",
      " '2-2s-.89543-2-2-2-2 .89543-2 2 .89543 2 2 '\n",
      " '2zm8.05523-2.69917v7.10958H2.75977c-.27615 0-.5.2238-.5.5v.5c0 '\n",
      " '.2761.22385.5.5.5H15.422c.4419 0 '\n",
      " '.6775-.2211.6775-.6629V4.29932c0-.27615-.2239-.5-.5-.5h-.5c-.2761 '\n",
      " '0-.5.22385-.5.5z\" fill=\"#595959\" fill-rule=\"evenodd\">\\n'\n",
      " '         </path>\\n'\n",
      " '        </svg>\\n'\n",
      " '        <span>\\n'\n",
      " '         Estimated $98.7K – $125K a year\\n'\n",
      " '        </span>\\n'\n",
      " '        <button aria-haspopup=\"true\" aria-label=\"About Indeed\\'s estimated '\n",
      " 'salaries\" class=\"estimated-salary-legal-disclaimer-button\" type=\"button\">\\n'\n",
      " '         <img alt=\"\" aria-hidden=\"true\" '\n",
      " 'class=\"estimated-salary-legal-disclaimer-icon\" '\n",
      " 'src=\"https://c03.s3.indeed.com/mosaic-provider-jobcards/dist/images/src/components/JobMetaData/EstimatedSalary/QuestionCircle-901519.svg\"/>\\n'\n",
      " '        </button>\\n'\n",
      " '       </span>\\n'\n",
      " '      </div>\\n'\n",
      " '      <div class=\"metadata\">\\n'\n",
      " '       <div class=\"attribute_snippet\">\\n'\n",
      " '        <svg aria-hidden=\"true\" aria-label=\"Job type\" fill=\"none\" '\n",
      " 'height=\"13\" role=\"presentation\" viewbox=\"0 0 14 13\" width=\"14\" '\n",
      " 'xmlns=\"http://www.w3.org/2000/svg\">\\n'\n",
      " '         <path clip-rule=\"evenodd\" d=\"M4.50226.5c-.27614 '\n",
      " '0-.5.223858-.5.5v2.1H.5c-.276142 '\n",
      " '0-.5.22386-.5.5v1.9h14V3.6c0-.27614-.2239-.5-.5-.5h-3.4977V1c0-.276142-.22389-.5-.50004-.5h-5Zm4.19962 '\n",
      " '2.6H5.30344V1.8h3.39844v1.3Z\" fill=\"#595959\" fill-rule=\"evenodd\">\\n'\n",
      " '         </path>\\n'\n",
      " '         <path d=\"M5.70117 6.80005H0v5.20005c0 .2761.223857.5.5.5h13c.2761 0 '\n",
      " '.5-.2239.5-.5V6.80005H8.30117v.80322c0 .27614-.22386.5-.5.5h-1.6c-.27614 '\n",
      " '0-.5-.22386-.5-.5v-.80322Z\" fill=\"#595959\">\\n'\n",
      " '         </path>\\n'\n",
      " '        </svg>\\n'\n",
      " '        Full-time\\n'\n",
      " '       </div>\\n'\n",
      " '      </div>\\n'\n",
      " '     </div>\\n'\n",
      " '     <div class=\"heading6 error-text tapItem-gutter\">\\n'\n",
      " '     </div>\\n'\n",
      " '    </td>\\n'\n",
      " '   </tr>\\n'\n",
      " '  </tbody>\\n'\n",
      " ' </table>\\n'\n",
      " ' <table class=\"jobCardShelfContainer big6_visualChanges\" '\n",
      " 'role=\"presentation\">\\n'\n",
      " '  <tbody>\\n'\n",
      " '   <tr class=\"jobCardShelf\">\\n'\n",
      " '   </tr>\\n'\n",
      " '   <tr class=\"underShelfFooter\">\\n'\n",
      " '    <td>\\n'\n",
      " '     <div class=\"heading6 tapItem-gutter result-footer\">\\n'\n",
      " '      <div class=\"job-snippet\">\\n'\n",
      " '       <ul style=\"list-style-type:circle;margin-top: 0px;margin-bottom: '\n",
      " '0px;padding-left:20px;\">\\n'\n",
      " '        <li style=\"margin-bottom:0px;\">\\n'\n",
      " '         Contribute to managing\\n'\n",
      " '         <b>\\n'\n",
      " '          data\\n'\n",
      " '         </b>\\n'\n",
      " '         integrity,\\n'\n",
      " '         <b>\\n'\n",
      " '          data\\n'\n",
      " '         </b>\\n'\n",
      " '         storage efficiency and\\n'\n",
      " '         <b>\\n'\n",
      " '          data\\n'\n",
      " '         </b>\\n'\n",
      " '         ecosystem efficiency.\\n'\n",
      " '        </li>\\n'\n",
      " '        <li>\\n'\n",
      " '         We are looking for a\\n'\n",
      " '         <b>\\n'\n",
      " '          data\\n'\n",
      " '         </b>\\n'\n",
      " '         <b>\\n'\n",
      " '          scientist\\n'\n",
      " '         </b>\\n'\n",
      " '         with a very strong background…\\n'\n",
      " '        </li>\\n'\n",
      " '       </ul>\\n'\n",
      " '      </div>\\n'\n",
      " '      <span class=\"date\">\\n'\n",
      " '       <span class=\"visually-hidden\">\\n'\n",
      " '        Posted\\n'\n",
      " '       </span>\\n'\n",
      " '       30+ days ago\\n'\n",
      " '      </span>\\n'\n",
      " '      <span class=\"result-link-bar-separator\">\\n'\n",
      " '       ·\\n'\n",
      " '      </span>\\n'\n",
      " '      <button aria-expanded=\"false\" class=\"sl resultLink more_links_button\" '\n",
      " 'type=\"button\">\\n'\n",
      " '       More...\\n'\n",
      " '      </button>\\n'\n",
      " '     </div>\\n'\n",
      " '     <div class=\"tab-container\">\\n'\n",
      " '      <div class=\"more-links-container result-tab\" role=\"presentation\">\\n'\n",
      " '       <div class=\"more_links\">\\n'\n",
      " '        <button aria-label=\"Close\" class=\"close-button\" title=\"Close\" '\n",
      " 'type=\"button\">\\n'\n",
      " '        </button>\\n'\n",
      " '        <ul>\\n'\n",
      " '         <li>\\n'\n",
      " '          <span class=\"mat\">\\n'\n",
      " '           View all\\n'\n",
      " '           <a href=\"/q-National-Research-Group-l-New-York,-NY-jobs.html\">\\n'\n",
      " '            National Research Group jobs in New York, NY\\n'\n",
      " '           </a>\\n'\n",
      " '           -\\n'\n",
      " '           <a href=\"/l-New-York,-NY-jobs.html\">\\n'\n",
      " '            New York jobs\\n'\n",
      " '           </a>\\n'\n",
      " '          </span>\\n'\n",
      " '         </li>\\n'\n",
      " '         <li>\\n'\n",
      " '          <span class=\"mat\">\\n'\n",
      " '           Salary Search:\\n'\n",
      " '           <a '\n",
      " 'href=\"/career/data-scientist/salaries/New-York--NY?campaignid=serp-more&amp;fromjk=22bc9067013f465c&amp;from=serp-more\">\\n'\n",
      " '            Data Scientist salaries in New York, NY\\n'\n",
      " '           </a>\\n'\n",
      " '          </span>\\n'\n",
      " '         </li>\\n'\n",
      " '        </ul>\\n'\n",
      " '       </div>\\n'\n",
      " '      </div>\\n'\n",
      " '     </div>\\n'\n",
      " '    </td>\\n'\n",
      " '   </tr>\\n'\n",
      " '  </tbody>\\n'\n",
      " ' </table>\\n'\n",
      " ' <div aria-live=\"polite\">\\n'\n",
      " ' </div>\\n'\n",
      " '</div>')\n"
     ]
    }
   ],
   "source": [
    "# Prettify and review a single job result\n",
    "prettyHTML = soup.find_all('div', class_='job_seen_beacon')[0].prettify() \n",
    "pprint.pprint(prettyHTML)"
   ]
  },
  {
   "cell_type": "markdown",
   "metadata": {
    "focus": false,
    "id": "f1eddb90-4ba8-483c-a229-77e93aa53119"
   },
   "source": [
    "## Write functions to extract each items from a job listing"
   ]
  },
  {
   "cell_type": "code",
   "execution_count": 4,
   "metadata": {
    "ExecuteTime": {
     "end_time": "2022-03-28T17:55:25.635553Z",
     "start_time": "2022-03-28T17:55:25.624946Z"
    },
    "code_folding": []
   },
   "outputs": [],
   "source": [
    "# Save a sample job to test functions on - it's unlikely that this will be well poplated with data\n",
    "result=soup.find_all('div', class_='job_seen_beacon')[3]"
   ]
  },
  {
   "cell_type": "code",
   "execution_count": 5,
   "metadata": {
    "ExecuteTime": {
     "end_time": "2022-03-28T17:55:25.650002Z",
     "start_time": "2022-03-28T17:55:25.638686Z"
    },
    "code_folding": [
     2,
     9,
     16,
     23,
     30,
     37
    ]
   },
   "outputs": [],
   "source": [
    "# Extraction function definitions\n",
    "\n",
    "def extract_location_from_result(result):\n",
    "    try:\n",
    "        j_location = result.find('div', attrs={'class':'companyLocation'}).text.strip()\n",
    "    except:\n",
    "        j_location = np.nan         \n",
    "    return j_location\n",
    "\n",
    "def extract_employer_from_result(result):\n",
    "    try:\n",
    "        j_employer = result.find('span', attrs={'class':'companyName'}).text.strip()\n",
    "    except:\n",
    "        j_employer = np.nan         \n",
    "    return j_employer\n",
    "\n",
    "def extract_title_from_result(result):\n",
    "    try:\n",
    "        j_title = result.find('h2', attrs={'class':'jobTitle jobTitle-color-purple'}).text.strip().title()\n",
    "    except:\n",
    "        j_title = np.nan         \n",
    "    return j_title\n",
    "\n",
    "def extract_salary_from_result(result):\n",
    "    try:\n",
    "        j_salary = result.find('div', attrs={'class':'salary-snippet'}).text.strip()\n",
    "    except:\n",
    "        j_salary = np.nan         \n",
    "    return j_salary\n",
    "\n",
    "def extract_summary_from_result(result):\n",
    "    try:\n",
    "        j_summary = result.find('div', attrs={'class':'job-snippet'}).text.strip()\n",
    "    except:\n",
    "        j_summary = np.nan         \n",
    "    return j_summary\n",
    "\n",
    "def extract_employer_rating_from_result(result):\n",
    "    try:\n",
    "        j_employer_rating = result.find('span', attrs={'aria-hidden':True}).text.strip()\n",
    "    except:\n",
    "        j_employer_rating = np.nan         \n",
    "    return j_employer_rating\n",
    "        "
   ]
  },
  {
   "cell_type": "code",
   "execution_count": 6,
   "metadata": {
    "ExecuteTime": {
     "end_time": "2022-03-28T17:55:25.660387Z",
     "start_time": "2022-03-28T17:55:25.652690Z"
    },
    "code_folding": [
     0
    ],
    "scrolled": true
   },
   "outputs": [
    {
     "name": "stdout",
     "output_type": "stream",
     "text": [
      "Title: Data Scientist\n",
      "Salary: nan\n",
      "Location: New York, NY\n",
      "Employer: CANDY\n",
      "Employer rating: 4.3\n",
      "Summary: Translate data insights into product recommendations.\n",
      "You will play a major role in owning high impact product areas, driving transparency through reporting,…\n"
     ]
    }
   ],
   "source": [
    "#Print function results from a sample job card \n",
    "\n",
    "print('Title:',extract_title_from_result(result))\n",
    "print('Salary:',extract_salary_from_result(result))\n",
    "print('Location:',extract_location_from_result(result))\n",
    "print('Employer:',extract_employer_from_result(result))\n",
    "print('Employer rating:',extract_employer_rating_from_result(result))\n",
    "print('Summary:',extract_summary_from_result(result))"
   ]
  },
  {
   "cell_type": "markdown",
   "metadata": {
    "focus": false,
    "id": "34070e89-9521-4b45-90c8-57a6599aac68"
   },
   "source": [
    "*Now I have this working for one job, it's time to scale it up.*"
   ]
  },
  {
   "cell_type": "markdown",
   "metadata": {
    "focus": false,
    "id": "e8beed7c-3e42-40c0-810f-5f67f8f885a0"
   },
   "source": [
    "## Construct a function to collect results from multiple cities and starting points. "
   ]
  },
  {
   "cell_type": "code",
   "execution_count": 7,
   "metadata": {
    "ExecuteTime": {
     "end_time": "2022-03-28T17:55:25.673759Z",
     "start_time": "2022-03-28T17:55:25.663128Z"
    },
    "code_folding": []
   },
   "outputs": [],
   "source": [
    "#Define job scrape function \n",
    "\n",
    "def scrape_jobs(scrape_dict):\n",
    "    \"\"\"Function designed to scrape jobs from Indeed.com\n",
    "    \n",
    "    Takes an input parameter dictionary in the form:\n",
    "    \n",
    "    {'num_pages' : 10,\n",
    "     'roles' : ['data_scientist','data_analyst'],\n",
    "     'cities' : ['London', 'Bristol'],\n",
    "     'site' : 'https://www.uk.indeed.com/jobs',\n",
    "     'currency' : 'GBP'}\n",
    "     \n",
    "    \"\"\"\n",
    "\n",
    "    #Function takes a scrape dictionary as input to define scrape parameters\n",
    "    num_pages = scrape_dict['num_pages']*10\n",
    "    site = scrape_dict['site']\n",
    "    currency = scrape_dict['currency']\n",
    "\n",
    "    # Iterate over cities in scrape_dict\n",
    "    for city in tqdm(scrape_dict['cities']):\n",
    "        \n",
    "        # Initialise empty lists to hold results\n",
    "        results = []\n",
    "        j_title = []\n",
    "        j_salary = []\n",
    "        j_location = []\n",
    "        j_employer = []\n",
    "        j_employer_rating = []\n",
    "        j_summary = []\n",
    "        search_city = []\n",
    "        search_role = []\n",
    "        \n",
    "        # Iterate over the specified number of pages of search results\n",
    "        for start in range(0, num_pages, 10):\n",
    "            \n",
    "            # Iterate over the specified roles to search for\n",
    "            for role in scrape_dict['roles']:\n",
    "                \n",
    "                # Use f-strings to make the search URL\n",
    "                url = f'{site}?q={role}&l={city}&start={start}'\n",
    "                # Slow the scrape down to appear a little human\n",
    "                time.sleep(random.randint(1,3))\n",
    "                # Use requests package to return HTML\n",
    "                r = requests.get(url)\n",
    "                # Use bs4 to parse the HTML\n",
    "                soup = BeautifulSoup(r.text, 'html.parser')\n",
    "                \n",
    "                # Iterate over the 15 search results on each page\n",
    "                for i in range(15):\n",
    "                    \n",
    "                    # Try and except to absorb errors without failing.\n",
    "                    try:\n",
    "                        \n",
    "                        # Append raw results from job_seen_beacon - redundancy measure\n",
    "                        results.append(soup.find_all('div', class_='job_seen_beacon')[i])\n",
    "                        \n",
    "                        # Append each piece of job data to the initialised list\n",
    "                        # Uses functions defined perviously\n",
    "                        smallsoup = soup.find_all('div', class_='job_seen_beacon')[i]\n",
    "                        j_title.append(extract_title_from_result(smallsoup))\n",
    "                        j_salary.append(extract_salary_from_result(smallsoup))\n",
    "                        j_location.append(extract_location_from_result(smallsoup))\n",
    "                        j_employer.append(extract_employer_from_result(smallsoup))\n",
    "                        j_employer_rating.append(extract_employer_rating_from_result(smallsoup))\n",
    "                        j_summary.append(extract_summary_from_result(smallsoup))\n",
    "                        search_city.append(city)\n",
    "                        search_role.append(role)\n",
    "                        \n",
    "                    except: \n",
    "                        pass\n",
    "\n",
    "        #Outputting df formatted data to csv    \n",
    "        now = (datetime.datetime.now().strftime(\"%d%B_%I%M%p\"))\n",
    "        jobs = pd.DataFrame({'title': j_title,\n",
    "                             'salary': j_salary,\n",
    "                             'location': j_location,\n",
    "                             'employer': j_employer,\n",
    "                             'employer_rating':j_employer_rating,\n",
    "                             'summary':j_summary,\n",
    "                             'search_city':search_city,\n",
    "                             'search_role':search_role})\n",
    "        filepathdf=f'df/{now}_{city}_{currency}.csv'\n",
    "        jobs.to_csv(filepathdf, index=False, header=['title','salary','location','employer','employer_rating','summary','search_city', 'search_role'] )\n",
    "\n",
    "        #Outputting raw scraped data for each city as csv - redundancy measure             \n",
    "        filepathraw=f'raw/{now}_{city}_{currency}.csv'\n",
    "        with open(filepathraw,'w', newline='') as f:\n",
    "            wr = csv.writer(f)\n",
    "            wr.writerows(results)"
   ]
  },
  {
   "cell_type": "code",
   "execution_count": 8,
   "metadata": {
    "ExecuteTime": {
     "end_time": "2022-03-28T17:55:25.688820Z",
     "start_time": "2022-03-28T17:55:25.677008Z"
    },
    "code_folding": [
     0
    ]
   },
   "outputs": [],
   "source": [
    "#Define input paramaters for job scrape function for different countries \n",
    "\n",
    "\n",
    "scrape_uk = {\n",
    "    'num_pages' : 80,\n",
    "    'roles' : ['data_scientist','data_analyst'],\n",
    "    'cities' : ['London', 'Bristol', 'Manchester', 'Leeds', 'Glasgow','Edinburgh', 'Liverpool', 'Oxford', \n",
    "              'Cambridge', 'Birmingham', 'Brighton', 'Leicester'],\n",
    "    'site' : 'https://www.uk.indeed.com/jobs',\n",
    "    'currency' : 'GBP'}\n",
    "\n",
    "scrape_us = {\n",
    "    'num_pages' : 80,\n",
    "    'roles' : ['data_scientist','data_analyst'],\n",
    "    'cities' : ['New+York', 'Chicago', 'San+Francisco', 'Austin', 'Seattle', \n",
    "                'Los+Angeles', 'Philadelphia', 'Atlanta', 'Dallas', 'Pittsburgh', \n",
    "                'Portland', 'Phoenix', 'Denver', 'Houston', 'Miami', 'Las+Vegas'],\n",
    "    'site' : 'https://www.indeed.com/jobs',\n",
    "    'currency' : 'USD'}\n",
    "\n",
    "scrape_fr = {\n",
    "    'num_pages' : 80,\n",
    "    'roles' : ['data_scientist','data_analyst'],\n",
    "    'cities' : ['Paris','Marseille','Lyon','Toulouse'],\n",
    "    'site' : 'https://www.fr.indeed.com/emplois',\n",
    "    'currency' : 'EUR'}\n",
    "\n",
    "scrape_de = {\n",
    "    'num_pages' : 80,\n",
    "    'roles' : ['data_scientist','data_analyst'],\n",
    "    'cities' : ['Berlin','Hamburg','Cologne','Munich','Frankfurt','Essen','Dortmund'],\n",
    "    'site' : 'https://www.de.indeed.com/jobs',\n",
    "    'currency' : 'EUR'}\n",
    "\n",
    "scrape_ca = {\n",
    "    'num_pages' : 80,\n",
    "    'roles' : ['data_scientist','data_analyst'],\n",
    "    'cities' : ['Toronto','Montreal','Ottawa','Calgary','Mississauga','Winnipeg','Vancouver'],\n",
    "    'site' : 'https://www.ca.indeed.com/jobs',\n",
    "    'currency' : 'CADUSD'}"
   ]
  },
  {
   "cell_type": "code",
   "execution_count": 9,
   "metadata": {
    "ExecuteTime": {
     "end_time": "2022-03-28T17:55:25.695622Z",
     "start_time": "2022-03-28T17:55:25.692009Z"
    },
    "code_folding": []
   },
   "outputs": [],
   "source": [
    "#Run the scrape function for each country - commented out so I don't run by accident\n",
    "\n",
    "#scrape_jobs(scrape_us)\n",
    "#scrape_jobs(scrape_uk)\n",
    "#scrape_jobs(scrape_fr)\n",
    "#scrape_jobs(scrape_de)\n",
    "#scrape_jobs(scrape_ca)"
   ]
  },
  {
   "cell_type": "markdown",
   "metadata": {},
   "source": [
    "*The data have been scraped and output to csv already. For this notebook we're just going to read in all csvs.*"
   ]
  },
  {
   "cell_type": "code",
   "execution_count": 10,
   "metadata": {
    "ExecuteTime": {
     "end_time": "2022-03-28T17:55:26.324943Z",
     "start_time": "2022-03-28T17:55:25.703516Z"
    },
    "code_folding": [
     0
    ]
   },
   "outputs": [],
   "source": [
    "# Read many many files from /df/ folder.\n",
    "\n",
    "# US scrape - Use glob to manipulate file names\n",
    "path = r'/Users/robertdavies/Desktop/DSI/GA_P2/DSI21-lessons/projects/project-4/df' \n",
    "all_files = glob.glob(path + \"/*_USD.csv\")\n",
    "\n",
    "li = []\n",
    "for filename in all_files:\n",
    "    df = pd.read_csv(filename, index_col=None, header=0)\n",
    "    li.append(df)\n",
    "\n",
    "jobs_us = pd.concat(li, axis=0, ignore_index=True)\n",
    "jobs_us['country']='US'\n",
    "\n",
    "# UK scrape\n",
    "path = r'/Users/robertdavies/Desktop/DSI/GA_P2/DSI21-lessons/projects/project-4/df' \n",
    "all_files = glob.glob(path + \"/*_GBP.csv\")\n",
    "\n",
    "li = []\n",
    "for filename in all_files:\n",
    "    df = pd.read_csv(filename, index_col=None, header=0)\n",
    "    li.append(df)\n",
    "\n",
    "jobs_uk = pd.concat(li, axis=0, ignore_index=True)\n",
    "jobs_uk['country']='UK'\n",
    "\n",
    "# EU scrape\n",
    "path = r'/Users/robertdavies/Desktop/DSI/GA_P2/DSI21-lessons/projects/project-4/df' # use your path\n",
    "all_files = glob.glob(path + \"/*_EUR.csv\")\n",
    "\n",
    "li = []\n",
    "for filename in all_files:\n",
    "    df = pd.read_csv(filename, index_col=None, header=0)\n",
    "    li.append(df)\n",
    "\n",
    "jobs_eu = pd.concat(li, axis=0, ignore_index=True)\n",
    "jobs_eu['country']='EU'\n",
    "\n",
    "# CAN scrape\n",
    "path = r'/Users/robertdavies/Desktop/DSI/GA_P2/DSI21-lessons/projects/project-4/df' # use your path\n",
    "all_files = glob.glob(path + \"/*_CADUSD.csv\")\n",
    "\n",
    "li = []\n",
    "for filename in all_files:\n",
    "    df = pd.read_csv(filename, index_col=None, header=0)\n",
    "    li.append(df)\n",
    "\n",
    "jobs_ca = pd.concat(li, axis=0, ignore_index=True)\n",
    "jobs_ca['country']='CA'"
   ]
  },
  {
   "cell_type": "code",
   "execution_count": 11,
   "metadata": {
    "ExecuteTime": {
     "end_time": "2022-03-28T17:55:26.331271Z",
     "start_time": "2022-03-28T17:55:26.327362Z"
    },
    "code_folding": [
     0
    ]
   },
   "outputs": [
    {
     "name": "stdout",
     "output_type": "stream",
     "text": [
      "US jobs df shape after importing all: (46394, 9)\n",
      "UK jobs df shape after importing all: (26993, 9)\n",
      "EU jobs df shape after importing all: (7750, 9)\n",
      "CA jobs df shape after importing all: (8628, 9)\n"
     ]
    }
   ],
   "source": [
    "# Print shape of df's on input \n",
    "print('US jobs df shape after importing all:',jobs_us.shape)\n",
    "print('UK jobs df shape after importing all:',jobs_uk.shape)\n",
    "print('EU jobs df shape after importing all:',jobs_eu.shape)\n",
    "print('CA jobs df shape after importing all:',jobs_ca.shape)"
   ]
  },
  {
   "cell_type": "markdown",
   "metadata": {
    "focus": false,
    "id": "ff98ce64-78a7-441f-a675-63464e32c834"
   },
   "source": [
    "*Now, we need to clean up salary data.*\n",
    "\n",
    "1. *Only a small number of the scraped results have salary information - only these will be used for modeling.*\n",
    "1. *Some of the salaries are not yearly but hourly or weekly, these will not be useful to us for now.*\n",
    "1. *Some of the entries may be duplicated.*\n",
    "1. *The salaries are given as text and usually with ranges.*"
   ]
  },
  {
   "cell_type": "code",
   "execution_count": 12,
   "metadata": {
    "ExecuteTime": {
     "end_time": "2022-03-28T17:55:26.395850Z",
     "start_time": "2022-03-28T17:55:26.333912Z"
    },
    "code_folding": [
     0
    ],
    "focus": false,
    "id": "58533e57-f86b-494a-b841-e7b59c6229c6"
   },
   "outputs": [
    {
     "name": "stdout",
     "output_type": "stream",
     "text": [
      "US jobs df shape after dropping duplicates (10543, 9)\n",
      "UK jobs df shape after dropping duplicates (3671, 9)\n",
      "EU jobs df shape after dropping duplicates (2157, 9)\n",
      "CA jobs df shape after dropping duplicates (2157, 9)\n",
      "US jobs df shape after dropping missing salaries (421, 9)\n",
      "UK jobs df shape after dropping missing salaries (1340, 9)\n",
      "EU jobs df shape after dropping missing salaries (148, 9)\n",
      "CA jobs df shape after dropping missing salaries (232, 9)\n"
     ]
    }
   ],
   "source": [
    "# Print shape of df's through filtering/preprocessing \n",
    "\n",
    "# Drop duplicates from each\n",
    "jobs_us.drop_duplicates(subset=['title','location'], keep='first', inplace=True)\n",
    "jobs_uk.drop_duplicates(subset=['title','location'], keep='first', inplace=True)\n",
    "jobs_eu.drop_duplicates(subset=['title','location'], keep='first', inplace=True)\n",
    "jobs_ca.drop_duplicates(subset=['title','location'], keep='first', inplace=True)\n",
    "\n",
    "print('US jobs df shape after dropping duplicates',jobs_us.shape)\n",
    "print('UK jobs df shape after dropping duplicates',jobs_uk.shape)\n",
    "print('EU jobs df shape after dropping duplicates',jobs_eu.shape)\n",
    "print('CA jobs df shape after dropping duplicates',jobs_eu.shape)\n",
    "\n",
    "# Drop jobs with NaN salary\n",
    "jobs_us.dropna(subset=['salary'], inplace=True)\n",
    "jobs_uk.dropna(subset=['salary'], inplace=True)\n",
    "jobs_eu.dropna(subset=['salary'], inplace=True)\n",
    "jobs_ca.dropna(subset=['salary'], inplace=True)\n",
    "\n",
    "print('US jobs df shape after dropping missing salaries',jobs_us.shape)\n",
    "print('UK jobs df shape after dropping missing salaries',jobs_uk.shape)\n",
    "print('EU jobs df shape after dropping missing salaries',jobs_eu.shape)\n",
    "print('CA jobs df shape after dropping missing salaries',jobs_ca.shape)\n",
    "\n",
    "# Initially I was going to only retain annual salaries, but I decided to keep all and salvage them\n",
    "# jobs_us= jobs_us[jobs_us['salary'].str.contains('year')].copy()\n",
    "# jobs_uk= jobs_uk[jobs_uk['salary'].str.contains('year')].copy()\n",
    "# jobs_eu= jobs_eu[jobs_eu['salary'].str.contains('year')].copy()\n",
    "# jobs_ca= jobs_ca[jobs_ca['salary'].str.contains('year')].copy()"
   ]
  },
  {
   "cell_type": "markdown",
   "metadata": {
    "ExecuteTime": {
     "end_time": "2022-02-23T20:36:23.461485Z",
     "start_time": "2022-02-23T20:36:23.459064Z"
    }
   },
   "source": [
    "## Define functions to assist in data cleaning"
   ]
  },
  {
   "cell_type": "markdown",
   "metadata": {
    "focus": false,
    "id": "7d4bc860-b214-4f75-9cd0-b234830b1ec2"
   },
   "source": [
    "\n",
    "*We now define some functions to be used in data cleaning. These will be used to clean and convert all salaries to annual salaries in GBP*"
   ]
  },
  {
   "cell_type": "code",
   "execution_count": 13,
   "metadata": {
    "ExecuteTime": {
     "end_time": "2022-03-28T17:55:26.407406Z",
     "start_time": "2022-03-28T17:55:26.398067Z"
    },
    "code_folding": [
     0,
     2,
     60,
     63,
     66
    ],
    "focus": false,
    "id": "a0f701e0-80bd-40ba-9101-4535860c0968"
   },
   "outputs": [],
   "source": [
    "# Function definitions. Currency conversions are lazy but work \n",
    "\n",
    "def salary_tidy(x):\n",
    "    \"\"\"Function designed to format the salary column\"\"\"\n",
    "    #Step1 - replace unwanted charcaters\n",
    "    replace_chars = '$,.£&€'\n",
    "    for char in replace_chars:\n",
    "        x=x.replace(char,'')\n",
    "    \n",
    "    if ('day' or 'journée' or 'tag') in x.lower():\n",
    "        #Step2 - filter to retain all consecutive digits in a list\n",
    "        x = re.findall('[0-9]+',x)     \n",
    "        #Step3 - Return salary or average salary\n",
    "        if len(x)==1:\n",
    "            salary = int(x[0])\n",
    "            salary = salary*260\n",
    "        elif len(x)==2:\n",
    "            salary = (int(x[0])+int(x[1]))/2\n",
    "            salary = salary*260\n",
    "        else:\n",
    "            raise ValueError(\"The salary must have either one or two terms\")\n",
    "    elif ('week' or 'woche' or 'smeaine') in x.lower():\n",
    "        #Step2 - filter to retain all consecutive digits in a list\n",
    "        x = re.findall('[0-9]+',x)     \n",
    "        #Step3 - Return salary or average salary\n",
    "        if len(x)==1:\n",
    "            salary = int(x[0])\n",
    "            salary = salary*52\n",
    "        elif len(x)==2:\n",
    "            salary = (int(x[0])+int(x[1]))/2\n",
    "            salary = salary*52\n",
    "        else:\n",
    "            raise ValueError(\"The salary must have either one or two terms\")\n",
    "    elif ('month' or 'monat' or 'mois') in x.lower():\n",
    "        #Step2 - filter to retain all consecutive digits in a list\n",
    "        x = re.findall('[0-9]+',x)     \n",
    "        #Step3 - Return salary or average salary\n",
    "        if len(x)==1:\n",
    "            salary = int(x[0])\n",
    "            salary = salary*12\n",
    "        elif len(x)==2:\n",
    "            salary = (int(x[0])+int(x[1]))/2\n",
    "            salary=salary*12\n",
    "        else:\n",
    "            raise ValueError(\"The salary must have either one or two terms\")\n",
    "    else:\n",
    "        #Step2 - filter to retain all consecutive digits in a list\n",
    "        x = re.findall('[0-9]+',x)     \n",
    "        #Step3 - Return salary or average salary\n",
    "        if len(x)==1:\n",
    "            salary = int(x[0])\n",
    "        elif len(x)==2:\n",
    "            salary = (int(x[0])+int(x[1]))/2\n",
    "        else:\n",
    "            raise ValueError(\"The salary must have either one or two terms\")\n",
    "    return salary\n",
    "\n",
    "def replace_non_ascii(text, replace_char):\n",
    "    return re.sub(r'[^\\x00-\\x7F]+', replace_char, text)\n",
    "\n",
    "def convert_USD_to_GBP(x):\n",
    "    return x*0.74\n",
    "\n",
    "def convert_EUR_to_GBP(x):\n",
    "    return x*0.84\n",
    "\n",
    "def convert_CADUSD_to_GBP(x):\n",
    "    return x*0.58"
   ]
  },
  {
   "cell_type": "code",
   "execution_count": 14,
   "metadata": {
    "ExecuteTime": {
     "end_time": "2022-03-28T17:55:26.434703Z",
     "start_time": "2022-03-28T17:55:26.409429Z"
    },
    "code_folding": [
     0
    ]
   },
   "outputs": [],
   "source": [
    "# Clean salary columns for each of the jobs_country dataframes \n",
    "\n",
    "# Apply cleaning functions\n",
    "jobs_us.salary = jobs_us.salary.apply(lambda x: salary_tidy(x))\n",
    "jobs_us.salary = jobs_us.salary.apply(lambda x: convert_USD_to_GBP(x))\n",
    "jobs_uk.salary = jobs_uk.salary.apply(lambda x: salary_tidy(x))\n",
    "jobs_eu.salary = jobs_eu.salary.apply(lambda x: replace_non_ascii(x,''))\n",
    "jobs_eu.salary = jobs_eu.salary.apply(lambda x: salary_tidy(x))\n",
    "jobs_eu.salary = jobs_eu.salary.apply(lambda x: convert_EUR_to_GBP(x))\n",
    "jobs_ca.salary = jobs_ca.salary.apply(lambda x: salary_tidy(x))\n",
    "jobs_ca.salary = jobs_ca.salary.apply(lambda x: convert_USD_to_GBP(x))\n",
    "\n",
    "# Concatenate dataframes\n",
    "jobs = pd.concat([jobs_uk,jobs_us,jobs_eu, jobs_ca], axis=0, ignore_index=True)"
   ]
  },
  {
   "cell_type": "code",
   "execution_count": 15,
   "metadata": {
    "ExecuteTime": {
     "end_time": "2022-03-28T17:55:26.440976Z",
     "start_time": "2022-03-28T17:55:26.436876Z"
    },
    "code_folding": []
   },
   "outputs": [
    {
     "name": "stdout",
     "output_type": "stream",
     "text": [
      "US jobs df shape after salary cleaning (421, 9)\n",
      "UK jobs df shape after salary cleaning (1340, 9)\n",
      "EU jobs df shape after salary cleaning (148, 9)\n",
      "CA jobs df shape after salary cleaning (232, 9)\n",
      "Joint jobs df shape after salary cleaning and cat (2141, 9)\n"
     ]
    }
   ],
   "source": [
    "#Evaluate shape after cleaning dataframes and print \n",
    "\n",
    "print('US jobs df shape after salary cleaning',jobs_us.shape)\n",
    "print('UK jobs df shape after salary cleaning',jobs_uk.shape)\n",
    "print('EU jobs df shape after salary cleaning',jobs_eu.shape)\n",
    "print('CA jobs df shape after salary cleaning',jobs_ca.shape)\n",
    "print('Joint jobs df shape after salary cleaning and cat',jobs.shape)"
   ]
  },
  {
   "cell_type": "code",
   "execution_count": 16,
   "metadata": {
    "ExecuteTime": {
     "end_time": "2022-03-28T17:55:26.697871Z",
     "start_time": "2022-03-28T17:55:26.444527Z"
    },
    "code_folding": [],
    "scrolled": true
   },
   "outputs": [
    {
     "data": {
      "image/png": "[encoded data removed]",
      "text/plain": [
       "<Figure size 432x288 with 1 Axes>"
      ]
     },
     "metadata": {
      "needs_background": "light"
     },
     "output_type": "display_data"
    }
   ],
   "source": [
    "#Plot quick histogram of salaries \n",
    "jobs.salary.plot(kind='hist', bins=50,title='Histogram of scraped salaries');"
   ]
  },
  {
   "cell_type": "markdown",
   "metadata": {
    "focus": false,
    "id": "43e71edd-210e-42b1-9336-70a931f048af"
   },
   "source": [
    "## Write clean results to CSV"
   ]
  },
  {
   "cell_type": "code",
   "execution_count": 17,
   "metadata": {
    "ExecuteTime": {
     "end_time": "2022-03-28T17:55:26.729245Z",
     "start_time": "2022-03-28T17:55:26.701276Z"
    },
    "focus": false,
    "id": "783fd153-28ac-47ab-bfca-27e7c1de95b4"
   },
   "outputs": [],
   "source": [
    "jobs.to_csv(r'C:\\Users\\Admin\\DataScienceProjects\\SQL_Projects\\HR-Job-Salary-Analysis-using-SQL-Power-BI\\web_scraped_data.csv', index=False, header=jobs.columns )"
   ]
  },
  {
   "cell_type": "markdown",
   "metadata": {
    "focus": false,
    "id": "243e949e-2742-40af-872e-fec475fd306c"
   },
   "source": [
    "## Read in the cleaned jobs CSV"
   ]
  },
  {
   "cell_type": "code",
   "execution_count": 18,
   "metadata": {
    "ExecuteTime": {
     "end_time": "2022-03-28T17:55:26.751045Z",
     "start_time": "2022-03-28T17:55:26.731302Z"
    },
    "focus": false,
    "id": "588f9845-6143-4bcc-bfd1-85d45b79303d"
   },
   "outputs": [],
   "source": [
    "jobs = pd.read_csv(r'C:\\Users\\Admin\\DataScienceProjects\\SQL_Projects\\HR-Job-Salary-Analysis-using-SQL-Power-BI\\web_scraped_data.csv', index_col=None, header=0)\n",
    "\n",
    "# A little further cleaning to remove spaces in data\n",
    "jobs['search_role']=[x.replace(' ','_') for x in jobs['search_role']]"
   ]
  },
  {
   "cell_type": "markdown",
   "metadata": {},
   "source": [
    "## High level EDA"
   ]
  },
  {
   "cell_type": "code",
   "execution_count": 24,
   "metadata": {
    "ExecuteTime": {
     "end_time": "2022-03-28T17:55:28.003900Z",
     "start_time": "2022-03-28T17:55:27.434652Z"
    },
    "code_folding": [
     0
    ]
   },
   "outputs": [
    {
     "data": {
      "image/png": "[encoded data removed]",
      "text/plain": [
       "<Figure size 1152x720 with 4 Axes>"
      ]
     },
     "metadata": {
      "needs_background": "light"
     },
     "output_type": "display_data"
    }
   ],
   "source": [
    "# High level EDA plot for the report! This is the data going into modeling.\n",
    "fig, ax = plt.subplots(ncols=2, nrows=2, figsize=(16,10))\n",
    "sns.histplot(data = jobs.log_salary, ax=ax[0,1], bins=50,color='skyblue')\n",
    "sns.histplot(data = jobs.salary, ax=ax[0,0], bins=50,color='skyblue')\n",
    "sns.barplot(x=['Scientist','Analyst'], y=[jobs.search_role.value_counts()[1],jobs.search_role.value_counts()[0]], ax=ax[1,0],color='skyblue')\n",
    "sns.barplot(x=pd.DataFrame(jobs.country.value_counts()).index, y=pd.DataFrame(jobs.country.value_counts()).country, ax=ax[1,1],color='skyblue')\n",
    "ax[0,0].set_title('Distribution of salaries after cleaning')\n",
    "ax[0,1].set_title('Distribution of log-salaries after cleaning')\n",
    "ax[1,0].set_title('Scraped jobs split scientist vs analyist')\n",
    "ax[1,1].set_title('Scraped jobs split by country')\n",
    "plt.suptitle('High level EDA', fontsize=19, y=0.95)\n",
    "plt.show()"
   ]
  },
  {
   "cell_type": "markdown",
   "metadata": {},
   "source": [
    "*This concludes the Jupyter Notebook. Most of this has been included in the readme file for this project.*"
   ]
  }
 ],
 "metadata": {
  "kernelspec": {
   "display_name": "myenv",
   "language": "python",
   "name": "python3"
  },
  "language_info": {
   "codemirror_mode": {
    "name": "ipython",
    "version": 3
   },
   "file_extension": ".py",
   "mimetype": "text/x-python",
   "name": "python",
   "nbconvert_exporter": "python",
   "pygments_lexer": "ipython3",
   "version": "3.10.10"
  },
  "toc": {
   "base_numbering": 1,
   "nav_menu": {},
   "number_sections": false,
   "sideBar": true,
   "skip_h1_title": true,
   "title_cell": "Table of Contents",
   "title_sidebar": "Contents",
   "toc_cell": false,
   "toc_position": {
    "height": "calc(100% - 180px)",
    "left": "10px",
    "top": "150px",
    "width": "380.156px"
   },
   "toc_section_display": "block",
   "toc_window_display": true
  },
  "vscode": {
   "interpreter": {
    "hash": "ae0c3568e0f246cf3a4a0757d10cacde7dc39c9f802fc0a69996951e9ab3a320"
   }
  }
 },
 "nbformat": 4,
 "nbformat_minor": 1
}
